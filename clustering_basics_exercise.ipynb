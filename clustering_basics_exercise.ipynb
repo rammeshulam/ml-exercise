{
  "nbformat": 4,
  "nbformat_minor": 0,
  "metadata": {
    "colab": {
      "provenance": [],
      "toc_visible": true,
      "authorship_tag": "ABX9TyMTnKAG/zvPUYfS6UqE52VP",
      "include_colab_link": true
    },
    "kernelspec": {
      "name": "python3",
      "display_name": "Python 3"
    },
    "language_info": {
      "name": "python"
    }
  },
  "cells": [
    {
      "cell_type": "markdown",
      "metadata": {
        "id": "view-in-github",
        "colab_type": "text"
      },
      "source": [
        "<a href=\"https://colab.research.google.com/github/rammeshulam/ml-exercise/blob/main/clustering_basics_exercise.ipynb\" target=\"_parent\"><img src=\"https://colab.research.google.com/assets/colab-badge.svg\" alt=\"Open In Colab\"/></a>"
      ]
    },
    {
      "cell_type": "markdown",
      "source": [
        "# Clustering Basics\n",
        "Useful links:\n",
        "* [KMeans](https://scikit-learn.org/stable/modules/generated/sklearn.cluster.KMeans.html)\n",
        "* [silhouette_score](https://scikit-learn.org/stable/modules/generated/sklearn.metrics.silhouette_score.html)\n",
        "* [StandardScaler](https://scikit-learn.org/stable/modules/generated/sklearn.preprocessing.StandardScaler.html)\n",
        "* [Principal component analysis (PCA)](https://scikit-learn.org/stable/modules/generated/sklearn.decomposition.PCA.html)"
      ],
      "metadata": {
        "id": "gljX9i6WXKHq"
      }
    },
    {
      "cell_type": "code",
      "source": [
        "import pandas as pd\n",
        "import numpy as np\n",
        "\n",
        "from sklearn.cluster import KMeans\n",
        "from sklearn.metrics import silhouette_score\n",
        "from sklearn.preprocessing import StandardScaler\n",
        "from sklearn.decomposition import PCA\n",
        "import matplotlib.pyplot as plt\n",
        "from IPython.display import Image, HTML, display\n"
      ],
      "metadata": {
        "id": "9SK2YSSGA4kS"
      },
      "execution_count": null,
      "outputs": []
    },
    {
      "cell_type": "markdown",
      "source": [
        "# Exercise 1\n",
        "## Create a dummy dataset"
      ],
      "metadata": {
        "id": "aXmOA1TrXTOP"
      }
    },
    {
      "cell_type": "code",
      "execution_count": null,
      "metadata": {
        "colab": {
          "base_uri": "https://localhost:8080/",
          "height": 472
        },
        "id": "vL1QolcKAvQo",
        "outputId": "3c29a8cf-b761-4d60-9561-ed19029051f0"
      },
      "outputs": [
        {
          "output_type": "display_data",
          "data": {
            "text/plain": [
              "<Figure size 640x480 with 1 Axes>"
            ],
            "image/png": "[encoded data removed]"
          },
          "metadata": {}
        }
      ],
      "source": [
        "# Creating the dataset\n",
        "x1 = np.array([3, 1, 2, 2, 1, 6, 6, 6, 5, 6,\n",
        "               7, 8, 9, 8, 9, 9, 8, 4, 4, 5, 5])\n",
        "x2 = np.array([5, 4, 5, 6, 5, 8, 6, 7, 6, 7,\n",
        "               1, 1, 1, 2, 3, 2, 3, 9, 10, 9, 10])\n",
        "X = np.array(list(zip(x1, x2))).reshape(len(x1), 2)\n",
        "\n",
        "# Visualizing the data\n",
        "plt.scatter(x1, x2, marker='o')\n",
        "plt.xlim([0, 12])\n",
        "plt.ylim([0, 12])\n",
        "plt.title('Dataset Visualization')\n",
        "plt.xlabel('Feature 1')\n",
        "plt.ylabel('Feature 2')\n",
        "plt.grid()\n",
        "plt.show()"
      ]
    },
    {
      "cell_type": "markdown",
      "source": [
        "## 1.1 Use K-Means to cluster the data into two clusters\n",
        "* Apply K-Means algorithm\n",
        "* Print\n",
        " * centroids,\n",
        " * the cluster id which the algorithm assigned for each data point, and\n",
        " * WCSS value (a.k.a. inertia)"
      ],
      "metadata": {
        "id": "0lQvJVmYXcoq"
      }
    },
    {
      "cell_type": "code",
      "source": [],
      "metadata": {
        "id": "WusEVeW8AxpH"
      },
      "execution_count": null,
      "outputs": []
    },
    {
      "cell_type": "markdown",
      "source": [
        "## 1.2 Choosing K"
      ],
      "metadata": {
        "id": "t7Upz7gyha63"
      }
    },
    {
      "cell_type": "markdown",
      "source": [
        "### 1.2.1 Elbow method:\n",
        "* Run K-Means with different K values, starting from k=1\n",
        "* Plot a graph which shows WCSS (inertia) values as a function of K (hint: use [plt.plot(x,y)](https://matplotlib.org/stable/tutorials/pyplot.html))\n",
        "* According to the Elbow Method, what should be the best K for this dataset?"
      ],
      "metadata": {
        "id": "s5r82gYeHxXs"
      }
    },
    {
      "cell_type": "code",
      "source": [],
      "metadata": {
        "id": "buwsCWC7CDtS"
      },
      "execution_count": null,
      "outputs": []
    },
    {
      "cell_type": "markdown",
      "source": [
        "### 1.2.2 Silhouette score\n",
        "* Run K-Means with different K values, starting from **k=2**\n",
        "* Plot a graph which shows Silhouette scores as a function of K\n",
        "* According to the Silhouette score, what should be the best K for this dataset?"
      ],
      "metadata": {
        "id": "vBV8kcppiSw5"
      }
    },
    {
      "cell_type": "code",
      "source": [],
      "metadata": {
        "id": "6DAMAwoRfoVl"
      },
      "execution_count": null,
      "outputs": []
    },
    {
      "cell_type": "markdown",
      "source": [
        "#"
      ],
      "metadata": {
        "id": "5Z3ar0y4jNJ2"
      }
    },
    {
      "cell_type": "markdown",
      "source": [
        "## 1.3 Clusters visualization\n",
        "* Use the _plot_clusters()_ function below to plot clustering assignment for k=1,2,3,4 (4 separate plots)"
      ],
      "metadata": {
        "id": "8NE8KA9ejUQG"
      }
    },
    {
      "cell_type": "code",
      "source": [
        "def plot_clusters(X, y_kmeans, cluster_centers):\n",
        "    plt.scatter(X[:, 0], X[:, 1], c=y_kmeans, cmap='viridis', marker='o', edgecolor='k', s=100)\n",
        "    plt.scatter(cluster_centers[:, 0], cluster_centers[:, 1],\n",
        "                s=300, c='red', label='Centroids', edgecolor='k')\n",
        "    plt.title(f'K-means Clustering (k={len(cluster_centers)})')\n",
        "    plt.xlabel('Feature 1')\n",
        "    plt.ylabel('Feature 2')\n",
        "    plt.legend()\n",
        "    plt.grid()\n",
        "    plt.show()"
      ],
      "metadata": {
        "id": "Yv4DuEs3k965"
      },
      "execution_count": null,
      "outputs": []
    },
    {
      "cell_type": "code",
      "source": [],
      "metadata": {
        "id": "DJilssIIjcdv"
      },
      "execution_count": null,
      "outputs": []
    },
    {
      "cell_type": "markdown",
      "source": [
        "# Exercise 2 - Clustering Soccer players"
      ],
      "metadata": {
        "id": "0qk8VxHWH1u-"
      }
    },
    {
      "cell_type": "markdown",
      "source": [
        "## 2.0 Learn the domain & load raw data\n",
        "* Visit [link text](https://sofifa.com/), choose a player and review statistics\n",
        "* [Sofifa-web-scraper](https://github.com/prashantghimire/sofifa-web-scraper/tree/main), gives access to the data.\n",
        "* Your goal is to cluster the players into meaningful clusters, using the features in '*df_columns*' below\n",
        "* Load the data into a dataframe and review it. Name it *df_full*\n",
        "* create a dataframe with subset of columns *df_columns*. Name it *df*\n"
      ],
      "metadata": {
        "id": "2PD-STyaIcMp"
      }
    },
    {
      "cell_type": "code",
      "source": [
        "df_columns = [\"crossing\",\"finishing\",\"heading_accuracy\",\"short_passing\",\"volleys\",\"dribbling\",\"curve\",\"fk_accuracy\",\"long_passing\",\"ball_control\",\"acceleration\",\"sprint_speed\",\"agility\",\"reactions\",\"balance\",\"shot_power\",\"jumping\",\"stamina\",\"strength\",\"long_shots\",\"aggression\",\"interceptions\",\"positioning\",\"vision\",\"penalties\",\"composure\",\"defensive_awareness\",\"standing_tackle\",\"sliding_tackle\",\"gk_diving\",\"gk_handling\",\"gk_kicking\"]\n",
        "df_columns"
      ],
      "metadata": {
        "colab": {
          "base_uri": "https://localhost:8080/"
        },
        "id": "XH_woiDYsDJK",
        "outputId": "d254b9c5-5112-4969-beca-f06d7823a3fd"
      },
      "execution_count": null,
      "outputs": [
        {
          "output_type": "execute_result",
          "data": {
            "text/plain": [
              "['crossing',\n",
              " 'finishing',\n",
              " 'heading_accuracy',\n",
              " 'short_passing',\n",
              " 'volleys',\n",
              " 'dribbling',\n",
              " 'curve',\n",
              " 'fk_accuracy',\n",
              " 'long_passing',\n",
              " 'ball_control',\n",
              " 'acceleration',\n",
              " 'sprint_speed',\n",
              " 'agility',\n",
              " 'reactions',\n",
              " 'balance',\n",
              " 'shot_power',\n",
              " 'jumping',\n",
              " 'stamina',\n",
              " 'strength',\n",
              " 'long_shots',\n",
              " 'aggression',\n",
              " 'interceptions',\n",
              " 'positioning',\n",
              " 'vision',\n",
              " 'penalties',\n",
              " 'composure',\n",
              " 'defensive_awareness',\n",
              " 'standing_tackle',\n",
              " 'sliding_tackle',\n",
              " 'gk_diving',\n",
              " 'gk_handling',\n",
              " 'gk_kicking']"
            ]
          },
          "metadata": {},
          "execution_count": 9
        }
      ]
    },
    {
      "cell_type": "code",
      "source": [
        "data_url = 'https://github.com/prashantghimire/sofifa-web-scraper/blob/main/output/player-data-full.csv?raw=true'\n",
        "df_full = pd.read_csv(data_url)\n",
        "df_full"
      ],
      "metadata": {
        "id": "4szGQXN6pWek",
        "colab": {
          "base_uri": "https://localhost:8080/",
          "height": 864
        },
        "outputId": "9993f497-d201-42e9-e266-a2035b19f68c"
      },
      "execution_count": null,
      "outputs": [
        {
          "output_type": "stream",
          "name": "stderr",
          "text": [
            "<ipython-input-10-4228e1aa7608>:2: DtypeWarning: Columns (73) have mixed types. Specify dtype option on import or set low_memory=False.\n",
            "  df_full = pd.read_csv(data_url)\n"
          ]
        },
        {
          "output_type": "execute_result",
          "data": {
            "text/plain": [
              "       player_id     version                   name  \\\n",
              "0         239085  2024-07-08         Erling Haaland   \n",
              "1         231747  2024-07-08          Kylian Mbappé   \n",
              "2         192985  2024-07-08        Kevin De Bruyne   \n",
              "3         231866  2024-07-08                  Rodri   \n",
              "4         202126  2024-07-08             Harry Kane   \n",
              "...          ...         ...                    ...   \n",
              "18721     277344  2024-07-08       Éanna Fitzgerald   \n",
              "18722     272761  2024-07-08           Lyu Jiaqiang   \n",
              "18723      71064  2024-07-08       Ishaan Shishodia   \n",
              "18724     269541  2024-07-08              Wu Yuhang   \n",
              "18725     277493  2024-07-08  Fredy Chawngthansanga   \n",
              "\n",
              "                        full_name  \\\n",
              "0            Erling Braut Haaland   \n",
              "1            Kylian Mbappé Lottin   \n",
              "2                 Kevin De Bruyne   \n",
              "3      Rodrigo Hernández Cascante   \n",
              "4                      Harry Kane   \n",
              "...                           ...   \n",
              "18721            Eanna Fitzgerald   \n",
              "18722             吕佳强 Lü Jiaqiang   \n",
              "18723            Ishaan Shishodia   \n",
              "18724               吴宇航 Wu Yuhang   \n",
              "18725       Fredy Chawngthansanga   \n",
              "\n",
              "                                             description  \\\n",
              "0      Erling Haaland (Erling Braut Haaland, born 21 ...   \n",
              "1      Kylian Mbappé (Kylian Mbappé Lottin, born 20 D...   \n",
              "2      Kevin De Bruyne (born 28 June 1991) is a Belgi...   \n",
              "3      Rodri (born 22 June 1996) is a Spanish footbal...   \n",
              "4      Harry Kane (born 28 July 1993) is a British fo...   \n",
              "...                                                  ...   \n",
              "18721  Éanna Fitzgerald (Eanna Fitzgerald, born 20 Fe...   \n",
              "18722  Lyu Jiaqiang (吕佳强, Lü Jiaqiang, born 11 April ...   \n",
              "18723  Ishaan Shishodia (born 31 August 2005) is an I...   \n",
              "18724  Wu Yuhang (吴宇航, Wu Yuhang, born 16 February 20...   \n",
              "18725  Fredy Chawngthansanga (born 25 May 2003) is an...   \n",
              "\n",
              "                                                   image  height_cm  \\\n",
              "0      https://cdn.sofifa.net/players/239/085/24_120.png        195   \n",
              "1      https://cdn.sofifa.net/players/231/747/24_120.png        182   \n",
              "2      https://cdn.sofifa.net/players/192/985/24_120.png        181   \n",
              "3      https://cdn.sofifa.net/players/231/866/24_120.png        191   \n",
              "4      https://cdn.sofifa.net/players/202/126/24_120.png        188   \n",
              "...                                                  ...        ...   \n",
              "18721  https://cdn.sofifa.net/players/277/344/24_120.png        185   \n",
              "18722  https://cdn.sofifa.net/players/272/761/24_120.png        180   \n",
              "18723  https://cdn.sofifa.net/players/071/064/24_120.png        177   \n",
              "18724  https://cdn.sofifa.net/players/269/541/24_120.png        182   \n",
              "18725  https://cdn.sofifa.net/players/277/493/24_120.png        165   \n",
              "\n",
              "       weight_kg         dob positions  ...  composure  defensive_awareness  \\\n",
              "0             94  2000-07-21        ST  ...         87                   38   \n",
              "1             75  1998-12-20     ST,LW  ...         88                   26   \n",
              "2             75  1991-06-28    CM,CAM  ...         88                   66   \n",
              "3             82  1996-06-22    CDM,CM  ...         90                   92   \n",
              "4             85  1993-07-28        ST  ...         92                   46   \n",
              "...          ...         ...       ...  ...        ...                  ...   \n",
              "18721         75  2005-02-20        CM  ...         45                   38   \n",
              "18722         65  2005-04-11        CB  ...         37                   51   \n",
              "18723         70  2005-08-31    CM,CAM  ...         44                   33   \n",
              "18724         75  2001-02-16       CDM  ...         39                   40   \n",
              "18725         64  2003-05-25       CAM  ...         46                   31   \n",
              "\n",
              "      standing_tackle sliding_tackle gk_diving  gk_handling  gk_kicking  \\\n",
              "0                  47             29         7           14          13   \n",
              "1                  34             32        13            5           7   \n",
              "2                  70             53        15           13           5   \n",
              "3                  87             78        10           10           7   \n",
              "4                  46             38         8           10          11   \n",
              "...               ...            ...       ...          ...         ...   \n",
              "18721              39             46        10            9           9   \n",
              "18722              50             53        15           12           8   \n",
              "18723              38             42        12           11          13   \n",
              "18724              45             51        11           12           5   \n",
              "18725              32             29        12           10          11   \n",
              "\n",
              "       gk_positioning gk_reflexes  \\\n",
              "0                  11         7.0   \n",
              "1                  11         6.0   \n",
              "2                  10        13.0   \n",
              "3                  14         8.0   \n",
              "4                  14        11.0   \n",
              "...               ...         ...   \n",
              "18721            10.0         9.0   \n",
              "18722             7.0        15.0   \n",
              "18723            13.0        13.0   \n",
              "18724            13.0         8.0   \n",
              "18725             6.0         8.0   \n",
              "\n",
              "                                             play_styles  \n",
              "0                    Acrobatic +,Power Header,Quick Step  \n",
              "1      Quick Step +,Finesse Shot,Rapid,Flair,Trivela,...  \n",
              "2      Incisive Pass +,Dead Ball,Pinged Pass,Long Bal...  \n",
              "3      Power Shot +,Long Ball Pass,Bruiser,Aerial,Lon...  \n",
              "4      Incisive Pass +,Long Ball Pass,First Touch,Tri...  \n",
              "...                                                  ...  \n",
              "18721                                                NaN  \n",
              "18722                                                NaN  \n",
              "18723                                                NaN  \n",
              "18724                                                NaN  \n",
              "18725                                                NaN  \n",
              "\n",
              "[18726 rows x 76 columns]"
            ],
            "text/html": [
              "\n",
              "  <div id=\"df-f90fbced-a0c8-4b8f-b611-1f5d44ec2772\" class=\"colab-df-container\">\n",
              "    <div>\n",
              "<style scoped>\n",
              "    .dataframe tbody tr th:only-of-type {\n",
              "        vertical-align: middle;\n",
              "    }\n",
              "\n",
              "    .dataframe tbody tr th {\n",
              "        vertical-align: top;\n",
              "    }\n",
              "\n",
              "    .dataframe thead th {\n",
              "        text-align: right;\n",
              "    }\n",
              "</style>\n",
              "<table border=\"1\" class=\"dataframe\">\n",
              "  <thead>\n",
              "    <tr style=\"text-align: right;\">\n",
              "      <th></th>\n",
              "      <th>player_id</th>\n",
              "      <th>version</th>\n",
              "      <th>name</th>\n",
              "      <th>full_name</th>\n",
              "      <th>description</th>\n",
              "      <th>image</th>\n",
              "      <th>height_cm</th>\n",
              "      <th>weight_kg</th>\n",
              "      <th>dob</th>\n",
              "      <th>positions</th>\n",
              "      <th>...</th>\n",
              "      <th>composure</th>\n",
              "      <th>defensive_awareness</th>\n",
              "      <th>standing_tackle</th>\n",
              "      <th>sliding_tackle</th>\n",
              "      <th>gk_diving</th>\n",
              "      <th>gk_handling</th>\n",
              "      <th>gk_kicking</th>\n",
              "      <th>gk_positioning</th>\n",
              "      <th>gk_reflexes</th>\n",
              "      <th>play_styles</th>\n",
              "    </tr>\n",
              "  </thead>\n",
              "  <tbody>\n",
              "    <tr>\n",
              "      <th>0</th>\n",
              "      <td>239085</td>\n",
              "      <td>2024-07-08</td>\n",
              "      <td>Erling Haaland</td>\n",
              "      <td>Erling Braut Haaland</td>\n",
              "      <td>Erling Haaland (Erling Braut Haaland, born 21 ...</td>\n",
              "      <td>https://cdn.sofifa.net/players/239/085/24_120.png</td>\n",
              "      <td>195</td>\n",
              "      <td>94</td>\n",
              "      <td>2000-07-21</td>\n",
              "      <td>ST</td>\n",
              "      <td>...</td>\n",
              "      <td>87</td>\n",
              "      <td>38</td>\n",
              "      <td>47</td>\n",
              "      <td>29</td>\n",
              "      <td>7</td>\n",
              "      <td>14</td>\n",
              "      <td>13</td>\n",
              "      <td>11</td>\n",
              "      <td>7.0</td>\n",
              "      <td>Acrobatic +,Power Header,Quick Step</td>\n",
              "    </tr>\n",
              "    <tr>\n",
              "      <th>1</th>\n",
              "      <td>231747</td>\n",
              "      <td>2024-07-08</td>\n",
              "      <td>Kylian Mbappé</td>\n",
              "      <td>Kylian Mbappé Lottin</td>\n",
              "      <td>Kylian Mbappé (Kylian Mbappé Lottin, born 20 D...</td>\n",
              "      <td>https://cdn.sofifa.net/players/231/747/24_120.png</td>\n",
              "      <td>182</td>\n",
              "      <td>75</td>\n",
              "      <td>1998-12-20</td>\n",
              "      <td>ST,LW</td>\n",
              "      <td>...</td>\n",
              "      <td>88</td>\n",
              "      <td>26</td>\n",
              "      <td>34</td>\n",
              "      <td>32</td>\n",
              "      <td>13</td>\n",
              "      <td>5</td>\n",
              "      <td>7</td>\n",
              "      <td>11</td>\n",
              "      <td>6.0</td>\n",
              "      <td>Quick Step +,Finesse Shot,Rapid,Flair,Trivela,...</td>\n",
              "    </tr>\n",
              "    <tr>\n",
              "      <th>2</th>\n",
              "      <td>192985</td>\n",
              "      <td>2024-07-08</td>\n",
              "      <td>Kevin De Bruyne</td>\n",
              "      <td>Kevin De Bruyne</td>\n",
              "      <td>Kevin De Bruyne (born 28 June 1991) is a Belgi...</td>\n",
              "      <td>https://cdn.sofifa.net/players/192/985/24_120.png</td>\n",
              "      <td>181</td>\n",
              "      <td>75</td>\n",
              "      <td>1991-06-28</td>\n",
              "      <td>CM,CAM</td>\n",
              "      <td>...</td>\n",
              "      <td>88</td>\n",
              "      <td>66</td>\n",
              "      <td>70</td>\n",
              "      <td>53</td>\n",
              "      <td>15</td>\n",
              "      <td>13</td>\n",
              "      <td>5</td>\n",
              "      <td>10</td>\n",
              "      <td>13.0</td>\n",
              "      <td>Incisive Pass +,Dead Ball,Pinged Pass,Long Bal...</td>\n",
              "    </tr>\n",
              "    <tr>\n",
              "      <th>3</th>\n",
              "      <td>231866</td>\n",
              "      <td>2024-07-08</td>\n",
              "      <td>Rodri</td>\n",
              "      <td>Rodrigo Hernández Cascante</td>\n",
              "      <td>Rodri (born 22 June 1996) is a Spanish footbal...</td>\n",
              "      <td>https://cdn.sofifa.net/players/231/866/24_120.png</td>\n",
              "      <td>191</td>\n",
              "      <td>82</td>\n",
              "      <td>1996-06-22</td>\n",
              "      <td>CDM,CM</td>\n",
              "      <td>...</td>\n",
              "      <td>90</td>\n",
              "      <td>92</td>\n",
              "      <td>87</td>\n",
              "      <td>78</td>\n",
              "      <td>10</td>\n",
              "      <td>10</td>\n",
              "      <td>7</td>\n",
              "      <td>14</td>\n",
              "      <td>8.0</td>\n",
              "      <td>Power Shot +,Long Ball Pass,Bruiser,Aerial,Lon...</td>\n",
              "    </tr>\n",
              "    <tr>\n",
              "      <th>4</th>\n",
              "      <td>202126</td>\n",
              "      <td>2024-07-08</td>\n",
              "      <td>Harry Kane</td>\n",
              "      <td>Harry Kane</td>\n",
              "      <td>Harry Kane (born 28 July 1993) is a British fo...</td>\n",
              "      <td>https://cdn.sofifa.net/players/202/126/24_120.png</td>\n",
              "      <td>188</td>\n",
              "      <td>85</td>\n",
              "      <td>1993-07-28</td>\n",
              "      <td>ST</td>\n",
              "      <td>...</td>\n",
              "      <td>92</td>\n",
              "      <td>46</td>\n",
              "      <td>46</td>\n",
              "      <td>38</td>\n",
              "      <td>8</td>\n",
              "      <td>10</td>\n",
              "      <td>11</td>\n",
              "      <td>14</td>\n",
              "      <td>11.0</td>\n",
              "      <td>Incisive Pass +,Long Ball Pass,First Touch,Tri...</td>\n",
              "    </tr>\n",
              "    <tr>\n",
              "      <th>...</th>\n",
              "      <td>...</td>\n",
              "      <td>...</td>\n",
              "      <td>...</td>\n",
              "      <td>...</td>\n",
              "      <td>...</td>\n",
              "      <td>...</td>\n",
              "      <td>...</td>\n",
              "      <td>...</td>\n",
              "      <td>...</td>\n",
              "      <td>...</td>\n",
              "      <td>...</td>\n",
              "      <td>...</td>\n",
              "      <td>...</td>\n",
              "      <td>...</td>\n",
              "      <td>...</td>\n",
              "      <td>...</td>\n",
              "      <td>...</td>\n",
              "      <td>...</td>\n",
              "      <td>...</td>\n",
              "      <td>...</td>\n",
              "      <td>...</td>\n",
              "    </tr>\n",
              "    <tr>\n",
              "      <th>18721</th>\n",
              "      <td>277344</td>\n",
              "      <td>2024-07-08</td>\n",
              "      <td>Éanna Fitzgerald</td>\n",
              "      <td>Eanna Fitzgerald</td>\n",
              "      <td>Éanna Fitzgerald (Eanna Fitzgerald, born 20 Fe...</td>\n",
              "      <td>https://cdn.sofifa.net/players/277/344/24_120.png</td>\n",
              "      <td>185</td>\n",
              "      <td>75</td>\n",
              "      <td>2005-02-20</td>\n",
              "      <td>CM</td>\n",
              "      <td>...</td>\n",
              "      <td>45</td>\n",
              "      <td>38</td>\n",
              "      <td>39</td>\n",
              "      <td>46</td>\n",
              "      <td>10</td>\n",
              "      <td>9</td>\n",
              "      <td>9</td>\n",
              "      <td>10.0</td>\n",
              "      <td>9.0</td>\n",
              "      <td>NaN</td>\n",
              "    </tr>\n",
              "    <tr>\n",
              "      <th>18722</th>\n",
              "      <td>272761</td>\n",
              "      <td>2024-07-08</td>\n",
              "      <td>Lyu Jiaqiang</td>\n",
              "      <td>吕佳强 Lü Jiaqiang</td>\n",
              "      <td>Lyu Jiaqiang (吕佳强, Lü Jiaqiang, born 11 April ...</td>\n",
              "      <td>https://cdn.sofifa.net/players/272/761/24_120.png</td>\n",
              "      <td>180</td>\n",
              "      <td>65</td>\n",
              "      <td>2005-04-11</td>\n",
              "      <td>CB</td>\n",
              "      <td>...</td>\n",
              "      <td>37</td>\n",
              "      <td>51</td>\n",
              "      <td>50</td>\n",
              "      <td>53</td>\n",
              "      <td>15</td>\n",
              "      <td>12</td>\n",
              "      <td>8</td>\n",
              "      <td>7.0</td>\n",
              "      <td>15.0</td>\n",
              "      <td>NaN</td>\n",
              "    </tr>\n",
              "    <tr>\n",
              "      <th>18723</th>\n",
              "      <td>71064</td>\n",
              "      <td>2024-07-08</td>\n",
              "      <td>Ishaan Shishodia</td>\n",
              "      <td>Ishaan Shishodia</td>\n",
              "      <td>Ishaan Shishodia (born 31 August 2005) is an I...</td>\n",
              "      <td>https://cdn.sofifa.net/players/071/064/24_120.png</td>\n",
              "      <td>177</td>\n",
              "      <td>70</td>\n",
              "      <td>2005-08-31</td>\n",
              "      <td>CM,CAM</td>\n",
              "      <td>...</td>\n",
              "      <td>44</td>\n",
              "      <td>33</td>\n",
              "      <td>38</td>\n",
              "      <td>42</td>\n",
              "      <td>12</td>\n",
              "      <td>11</td>\n",
              "      <td>13</td>\n",
              "      <td>13.0</td>\n",
              "      <td>13.0</td>\n",
              "      <td>NaN</td>\n",
              "    </tr>\n",
              "    <tr>\n",
              "      <th>18724</th>\n",
              "      <td>269541</td>\n",
              "      <td>2024-07-08</td>\n",
              "      <td>Wu Yuhang</td>\n",
              "      <td>吴宇航 Wu Yuhang</td>\n",
              "      <td>Wu Yuhang (吴宇航, Wu Yuhang, born 16 February 20...</td>\n",
              "      <td>https://cdn.sofifa.net/players/269/541/24_120.png</td>\n",
              "      <td>182</td>\n",
              "      <td>75</td>\n",
              "      <td>2001-02-16</td>\n",
              "      <td>CDM</td>\n",
              "      <td>...</td>\n",
              "      <td>39</td>\n",
              "      <td>40</td>\n",
              "      <td>45</td>\n",
              "      <td>51</td>\n",
              "      <td>11</td>\n",
              "      <td>12</td>\n",
              "      <td>5</td>\n",
              "      <td>13.0</td>\n",
              "      <td>8.0</td>\n",
              "      <td>NaN</td>\n",
              "    </tr>\n",
              "    <tr>\n",
              "      <th>18725</th>\n",
              "      <td>277493</td>\n",
              "      <td>2024-07-08</td>\n",
              "      <td>Fredy Chawngthansanga</td>\n",
              "      <td>Fredy Chawngthansanga</td>\n",
              "      <td>Fredy Chawngthansanga (born 25 May 2003) is an...</td>\n",
              "      <td>https://cdn.sofifa.net/players/277/493/24_120.png</td>\n",
              "      <td>165</td>\n",
              "      <td>64</td>\n",
              "      <td>2003-05-25</td>\n",
              "      <td>CAM</td>\n",
              "      <td>...</td>\n",
              "      <td>46</td>\n",
              "      <td>31</td>\n",
              "      <td>32</td>\n",
              "      <td>29</td>\n",
              "      <td>12</td>\n",
              "      <td>10</td>\n",
              "      <td>11</td>\n",
              "      <td>6.0</td>\n",
              "      <td>8.0</td>\n",
              "      <td>NaN</td>\n",
              "    </tr>\n",
              "  </tbody>\n",
              "</table>\n",
              "<p>18726 rows × 76 columns</p>\n",
              "</div>\n",
              "    <div class=\"colab-df-buttons\">\n",
              "\n",
              "  <div class=\"colab-df-container\">\n",
              "    <button class=\"colab-df-convert\" onclick=\"convertToInteractive('df-f90fbced-a0c8-4b8f-b611-1f5d44ec2772')\"\n",
              "            title=\"Convert this dataframe to an interactive table.\"\n",
              "            style=\"display:none;\">\n",
              "\n",
              "  <svg xmlns=\"http://www.w3.org/2000/svg\" height=\"24px\" viewBox=\"0 -960 960 960\">\n",
              "    <path d=\"M120-120v-720h720v720H120Zm60-500h600v-160H180v160Zm220 220h160v-160H400v160Zm0 220h160v-160H400v160ZM180-400h160v-160H180v160Zm440 0h160v-160H620v160ZM180-180h160v-160H180v160Zm440 0h160v-160H620v160Z\"/>\n",
              "  </svg>\n",
              "    </button>\n",
              "\n",
              "  <style>\n",
              "    .colab-df-container {\n",
              "      display:flex;\n",
              "      gap: 12px;\n",
              "    }\n",
              "\n",
              "    .colab-df-convert {\n",
              "      background-color: #E8F0FE;\n",
              "      border: none;\n",
              "      border-radius: 50%;\n",
              "      cursor: pointer;\n",
              "      display: none;\n",
              "      fill: #1967D2;\n",
              "      height: 32px;\n",
              "      padding: 0 0 0 0;\n",
              "      width: 32px;\n",
              "    }\n",
              "\n",
              "    .colab-df-convert:hover {\n",
              "      background-color: #E2EBFA;\n",
              "      box-shadow: 0px 1px 2px rgba(60, 64, 67, 0.3), 0px 1px 3px 1px rgba(60, 64, 67, 0.15);\n",
              "      fill: #174EA6;\n",
              "    }\n",
              "\n",
              "    .colab-df-buttons div {\n",
              "      margin-bottom: 4px;\n",
              "    }\n",
              "\n",
              "    [theme=dark] .colab-df-convert {\n",
              "      background-color: #3B4455;\n",
              "      fill: #D2E3FC;\n",
              "    }\n",
              "\n",
              "    [theme=dark] .colab-df-convert:hover {\n",
              "      background-color: #434B5C;\n",
              "      box-shadow: 0px 1px 3px 1px rgba(0, 0, 0, 0.15);\n",
              "      filter: drop-shadow(0px 1px 2px rgba(0, 0, 0, 0.3));\n",
              "      fill: #FFFFFF;\n",
              "    }\n",
              "  </style>\n",
              "\n",
              "    <script>\n",
              "      const buttonEl =\n",
              "        document.querySelector('#df-f90fbced-a0c8-4b8f-b611-1f5d44ec2772 button.colab-df-convert');\n",
              "      buttonEl.style.display =\n",
              "        google.colab.kernel.accessAllowed ? 'block' : 'none';\n",
              "\n",
              "      async function convertToInteractive(key) {\n",
              "        const element = document.querySelector('#df-f90fbced-a0c8-4b8f-b611-1f5d44ec2772');\n",
              "        const dataTable =\n",
              "          await google.colab.kernel.invokeFunction('convertToInteractive',\n",
              "                                                    [key], {});\n",
              "        if (!dataTable) return;\n",
              "\n",
              "        const docLinkHtml = 'Like what you see? Visit the ' +\n",
              "          '<a target=\"_blank\" href=https://colab.research.google.com/notebooks/data_table.ipynb>data table notebook</a>'\n",
              "          + ' to learn more about interactive tables.';\n",
              "        element.innerHTML = '';\n",
              "        dataTable['output_type'] = 'display_data';\n",
              "        await google.colab.output.renderOutput(dataTable, element);\n",
              "        const docLink = document.createElement('div');\n",
              "        docLink.innerHTML = docLinkHtml;\n",
              "        element.appendChild(docLink);\n",
              "      }\n",
              "    </script>\n",
              "  </div>\n",
              "\n",
              "\n",
              "<div id=\"df-273d403b-8bc3-4e94-88c8-1a33065af5f4\">\n",
              "  <button class=\"colab-df-quickchart\" onclick=\"quickchart('df-273d403b-8bc3-4e94-88c8-1a33065af5f4')\"\n",
              "            title=\"Suggest charts\"\n",
              "            style=\"display:none;\">\n",
              "\n",
              "<svg xmlns=\"http://www.w3.org/2000/svg\" height=\"24px\"viewBox=\"0 0 24 24\"\n",
              "     width=\"24px\">\n",
              "    <g>\n",
              "        <path d=\"M19 3H5c-1.1 0-2 .9-2 2v14c0 1.1.9 2 2 2h14c1.1 0 2-.9 2-2V5c0-1.1-.9-2-2-2zM9 17H7v-7h2v7zm4 0h-2V7h2v10zm4 0h-2v-4h2v4z\"/>\n",
              "    </g>\n",
              "</svg>\n",
              "  </button>\n",
              "\n",
              "<style>\n",
              "  .colab-df-quickchart {\n",
              "      --bg-color: #E8F0FE;\n",
              "      --fill-color: #1967D2;\n",
              "      --hover-bg-color: #E2EBFA;\n",
              "      --hover-fill-color: #174EA6;\n",
              "      --disabled-fill-color: #AAA;\n",
              "      --disabled-bg-color: #DDD;\n",
              "  }\n",
              "\n",
              "  [theme=dark] .colab-df-quickchart {\n",
              "      --bg-color: #3B4455;\n",
              "      --fill-color: #D2E3FC;\n",
              "      --hover-bg-color: #434B5C;\n",
              "      --hover-fill-color: #FFFFFF;\n",
              "      --disabled-bg-color: #3B4455;\n",
              "      --disabled-fill-color: #666;\n",
              "  }\n",
              "\n",
              "  .colab-df-quickchart {\n",
              "    background-color: var(--bg-color);\n",
              "    border: none;\n",
              "    border-radius: 50%;\n",
              "    cursor: pointer;\n",
              "    display: none;\n",
              "    fill: var(--fill-color);\n",
              "    height: 32px;\n",
              "    padding: 0;\n",
              "    width: 32px;\n",
              "  }\n",
              "\n",
              "  .colab-df-quickchart:hover {\n",
              "    background-color: var(--hover-bg-color);\n",
              "    box-shadow: 0 1px 2px rgba(60, 64, 67, 0.3), 0 1px 3px 1px rgba(60, 64, 67, 0.15);\n",
              "    fill: var(--button-hover-fill-color);\n",
              "  }\n",
              "\n",
              "  .colab-df-quickchart-complete:disabled,\n",
              "  .colab-df-quickchart-complete:disabled:hover {\n",
              "    background-color: var(--disabled-bg-color);\n",
              "    fill: var(--disabled-fill-color);\n",
              "    box-shadow: none;\n",
              "  }\n",
              "\n",
              "  .colab-df-spinner {\n",
              "    border: 2px solid var(--fill-color);\n",
              "    border-color: transparent;\n",
              "    border-bottom-color: var(--fill-color);\n",
              "    animation:\n",
              "      spin 1s steps(1) infinite;\n",
              "  }\n",
              "\n",
              "  @keyframes spin {\n",
              "    0% {\n",
              "      border-color: transparent;\n",
              "      border-bottom-color: var(--fill-color);\n",
              "      border-left-color: var(--fill-color);\n",
              "    }\n",
              "    20% {\n",
              "      border-color: transparent;\n",
              "      border-left-color: var(--fill-color);\n",
              "      border-top-color: var(--fill-color);\n",
              "    }\n",
              "    30% {\n",
              "      border-color: transparent;\n",
              "      border-left-color: var(--fill-color);\n",
              "      border-top-color: var(--fill-color);\n",
              "      border-right-color: var(--fill-color);\n",
              "    }\n",
              "    40% {\n",
              "      border-color: transparent;\n",
              "      border-right-color: var(--fill-color);\n",
              "      border-top-color: var(--fill-color);\n",
              "    }\n",
              "    60% {\n",
              "      border-color: transparent;\n",
              "      border-right-color: var(--fill-color);\n",
              "    }\n",
              "    80% {\n",
              "      border-color: transparent;\n",
              "      border-right-color: var(--fill-color);\n",
              "      border-bottom-color: var(--fill-color);\n",
              "    }\n",
              "    90% {\n",
              "      border-color: transparent;\n",
              "      border-bottom-color: var(--fill-color);\n",
              "    }\n",
              "  }\n",
              "</style>\n",
              "\n",
              "  <script>\n",
              "    async function quickchart(key) {\n",
              "      const quickchartButtonEl =\n",
              "        document.querySelector('#' + key + ' button');\n",
              "      quickchartButtonEl.disabled = true;  // To prevent multiple clicks.\n",
              "      quickchartButtonEl.classList.add('colab-df-spinner');\n",
              "      try {\n",
              "        const charts = await google.colab.kernel.invokeFunction(\n",
              "            'suggestCharts', [key], {});\n",
              "      } catch (error) {\n",
              "        console.error('Error during call to suggestCharts:', error);\n",
              "      }\n",
              "      quickchartButtonEl.classList.remove('colab-df-spinner');\n",
              "      quickchartButtonEl.classList.add('colab-df-quickchart-complete');\n",
              "    }\n",
              "    (() => {\n",
              "      let quickchartButtonEl =\n",
              "        document.querySelector('#df-273d403b-8bc3-4e94-88c8-1a33065af5f4 button');\n",
              "      quickchartButtonEl.style.display =\n",
              "        google.colab.kernel.accessAllowed ? 'block' : 'none';\n",
              "    })();\n",
              "  </script>\n",
              "</div>\n",
              "\n",
              "  <div id=\"id_67e99d81-ed9e-4e0c-bf0a-9d8eb2f05007\">\n",
              "    <style>\n",
              "      .colab-df-generate {\n",
              "        background-color: #E8F0FE;\n",
              "        border: none;\n",
              "        border-radius: 50%;\n",
              "        cursor: pointer;\n",
              "        display: none;\n",
              "        fill: #1967D2;\n",
              "        height: 32px;\n",
              "        padding: 0 0 0 0;\n",
              "        width: 32px;\n",
              "      }\n",
              "\n",
              "      .colab-df-generate:hover {\n",
              "        background-color: #E2EBFA;\n",
              "        box-shadow: 0px 1px 2px rgba(60, 64, 67, 0.3), 0px 1px 3px 1px rgba(60, 64, 67, 0.15);\n",
              "        fill: #174EA6;\n",
              "      }\n",
              "\n",
              "      [theme=dark] .colab-df-generate {\n",
              "        background-color: #3B4455;\n",
              "        fill: #D2E3FC;\n",
              "      }\n",
              "\n",
              "      [theme=dark] .colab-df-generate:hover {\n",
              "        background-color: #434B5C;\n",
              "        box-shadow: 0px 1px 3px 1px rgba(0, 0, 0, 0.15);\n",
              "        filter: drop-shadow(0px 1px 2px rgba(0, 0, 0, 0.3));\n",
              "        fill: #FFFFFF;\n",
              "      }\n",
              "    </style>\n",
              "    <button class=\"colab-df-generate\" onclick=\"generateWithVariable('df_full')\"\n",
              "            title=\"Generate code using this dataframe.\"\n",
              "            style=\"display:none;\">\n",
              "\n",
              "  <svg xmlns=\"http://www.w3.org/2000/svg\" height=\"24px\"viewBox=\"0 0 24 24\"\n",
              "       width=\"24px\">\n",
              "    <path d=\"M7,19H8.4L18.45,9,17,7.55,7,17.6ZM5,21V16.75L18.45,3.32a2,2,0,0,1,2.83,0l1.4,1.43a1.91,1.91,0,0,1,.58,1.4,1.91,1.91,0,0,1-.58,1.4L9.25,21ZM18.45,9,17,7.55Zm-12,3A5.31,5.31,0,0,0,4.9,8.1,5.31,5.31,0,0,0,1,6.5,5.31,5.31,0,0,0,4.9,4.9,5.31,5.31,0,0,0,6.5,1,5.31,5.31,0,0,0,8.1,4.9,5.31,5.31,0,0,0,12,6.5,5.46,5.46,0,0,0,6.5,12Z\"/>\n",
              "  </svg>\n",
              "    </button>\n",
              "    <script>\n",
              "      (() => {\n",
              "      const buttonEl =\n",
              "        document.querySelector('#id_67e99d81-ed9e-4e0c-bf0a-9d8eb2f05007 button.colab-df-generate');\n",
              "      buttonEl.style.display =\n",
              "        google.colab.kernel.accessAllowed ? 'block' : 'none';\n",
              "\n",
              "      buttonEl.onclick = () => {\n",
              "        google.colab.notebook.generateWithVariable('df_full');\n",
              "      }\n",
              "      })();\n",
              "    </script>\n",
              "  </div>\n",
              "\n",
              "    </div>\n",
              "  </div>\n"
            ],
            "application/vnd.google.colaboratory.intrinsic+json": {
              "type": "dataframe",
              "variable_name": "df_full"
            }
          },
          "metadata": {},
          "execution_count": 10
        }
      ]
    },
    {
      "cell_type": "code",
      "source": [],
      "metadata": {
        "id": "IUIs6XwUshm1"
      },
      "execution_count": null,
      "outputs": []
    },
    {
      "cell_type": "markdown",
      "source": [
        "## 2.1 Explore the data\n",
        "* Ensure all data is numeric\n",
        "* Ensure there are no missing values\n",
        "* What is the range, mean and standard deviation of each of the columns? Are there outliers?"
      ],
      "metadata": {
        "id": "hNjOVqc63vor"
      }
    },
    {
      "cell_type": "code",
      "source": [],
      "metadata": {
        "id": "Uco9FMLS8-pK"
      },
      "execution_count": null,
      "outputs": []
    },
    {
      "cell_type": "markdown",
      "source": [
        "## 2.2 Standardize the data\n",
        "KMeans which uses euclidian distance metric is sensitive to differenences in scale between features (dimentions). Although the data is all roughly at the same range, there are small differences between min valules of features. Lets standardize it.\n",
        "\n",
        "2.2.1 Use StandardScalar to get standardized values of *df*. Name it *X*"
      ],
      "metadata": {
        "id": "JhQdtTzM4oAh"
      }
    },
    {
      "cell_type": "code",
      "source": [],
      "metadata": {
        "id": "8TSUonOeE5XD"
      },
      "execution_count": null,
      "outputs": []
    },
    {
      "cell_type": "markdown",
      "source": [
        "## 2.3 Choosing K\n"
      ],
      "metadata": {
        "id": "D9n4QSGI6ZkD"
      }
    },
    {
      "cell_type": "markdown",
      "source": [
        "### 2.3.1 Elbow method\n",
        "* Run K-Means with different K values, starting from k=1\n",
        "* Plot a graph which shows WCSS (inertia) values as a function of K (hint: use [plt.plot(x,y)](https://matplotlib.org/stable/tutorials/pyplot.html))\n",
        "* According to the Elbow Method, what should be the best K for this dataset?"
      ],
      "metadata": {
        "id": "3z7cuwLS6wFL"
      }
    },
    {
      "cell_type": "code",
      "source": [],
      "metadata": {
        "id": "sDECuO3TvuV8"
      },
      "execution_count": null,
      "outputs": []
    },
    {
      "cell_type": "markdown",
      "source": [
        "### 2.3.2 Silhouette score\n",
        "* Run K-Means with different K values, starting from **k=2**\n",
        "* Plot a graph which shows Silhouette scores as a function of K\n",
        "* According to the Silhouette score, what should be the best K for this dataset?\n",
        "\n",
        "Note that this time the graph shows a high value on k=2 and decreasing values onward. This is not helpful."
      ],
      "metadata": {
        "id": "WHDX3Gco7Qky"
      }
    },
    {
      "cell_type": "code",
      "source": [],
      "metadata": {
        "id": "V9x-GfOg7BjX"
      },
      "execution_count": null,
      "outputs": []
    },
    {
      "cell_type": "markdown",
      "source": [
        "##  3. Exploring the clusters\n",
        "**For the rest of this exercise, use 4 clusters (*k=4*)**"
      ],
      "metadata": {
        "id": "yr17fbMx8QeK"
      }
    },
    {
      "cell_type": "markdown",
      "source": [
        "### 3.1 cluster the data\n",
        "* use KMeans to cluster the data. What are the clusters' sizes?\n",
        "* name the results of KMeans (column of cluster ids) as *y_kmeans*\n",
        "\n",
        "Note that one cluster is smaller than the rest."
      ],
      "metadata": {
        "id": "Ltu7Kuty_cBP"
      }
    },
    {
      "cell_type": "code",
      "source": [],
      "metadata": {
        "id": "Uq8yVc8r7R04"
      },
      "execution_count": null,
      "outputs": []
    },
    {
      "cell_type": "markdown",
      "source": [
        "### 3.2 Use PCA to visualize clusters\n",
        "\n",
        "* Use [Principal component analysis (PCA)](https://scikit-learn.org/stable/modules/generated/sklearn.decomposition.PCA.html) to reduce the dimention of the data (X) to two dimentions (n_components=2). Denote the reduced projection of X as ***X_r***\n",
        "* Run the visualization code below and review the output chart\n",
        "* One of the clusters is indeed smaller than the rest,\n",
        "* Note that two components explain ~70% of the variance"
      ],
      "metadata": {
        "id": "TPu3NINMAfW4"
      }
    },
    {
      "cell_type": "code",
      "source": [
        "# Code to generate X_r:"
      ],
      "metadata": {
        "id": "5TOFdlRyCtH_"
      },
      "execution_count": 1,
      "outputs": []
    },
    {
      "cell_type": "code",
      "source": [
        "target_names = [\"Cluster 0\",\"Cluster 1\",\"Cluster 2\", \"Cluster 3\"]\n",
        "\n",
        "# PRECENTAGE OF VARIANCE EXPLAINED FOR EACH COMPONENTS\n",
        "print('Explained variance ratio (first two components): %s' % str(pca.explained_variance_ratio_))\n",
        "\n",
        "# PLOTTING DATA POINTS\n",
        "plt.figure()\n",
        "plt.figure(figsize=(12,8))\n",
        "colors = ['navy', 'turquoise', 'darkorange', 'red']\n",
        "lw = 2\n",
        "\n",
        "\n",
        "for color, i, target_name in zip(colors, [0, 1, 2, 3], target_names):\n",
        "    plt.scatter(X_r[y_kmeans == i, 0], X_r[y_kmeans == i, 1], color=color, alpha=.8, lw=lw,label=target_name)\n",
        "\n",
        "plt.legend(loc='best', shadow=False, scatterpoints=1)\n",
        "plt.legend(bbox_to_anchor=(1.05, 1), loc=2, borderaxespad=0.6)\n",
        "plt.title('PCA of 2 Items')\n",
        "plt.show()"
      ],
      "metadata": {
        "id": "Nep2ZW2_daH8"
      },
      "execution_count": null,
      "outputs": []
    },
    {
      "cell_type": "markdown",
      "source": [
        "## 3.3 Characterize clusters via players' positions\n",
        "\n",
        "Positions taken from [guidetofootball.com](https://www.guidetofootball.com/tactics/playing-positions/):\n",
        "\n",
        "![Positions](https://www.guidetofootball.com/wp-content/uploads/playing-positions.png)\n",
        "\n",
        "The column 'positions' was not used in this analysis. The column holds the positions in which each player is playing at.\n",
        "\n",
        "\n",
        "Can we tag each cluster with unique player position? are the players in each cluster tend to play at similar positions? Let's find out:\n",
        "* create a copy of df_full and add it a column - the results of KMeans - cluster id (0-3) for each player. Name it *df_res*\n",
        "* Use *df_res*: For each cluster, print most frequent positions for that cluster.\n",
        "\n",
        "Note that players may have more than one position. For example, a player may have the value \"CB,RB\" in column 'positions'.\n",
        "\n",
        "* What is the cluster id of Lionel Messi? Does the positions found above match Messi's position?\n"
      ],
      "metadata": {
        "id": "Cd59b1mZET9b"
      }
    },
    {
      "cell_type": "code",
      "source": [],
      "metadata": {
        "id": "vfrfMWSy-uit"
      },
      "execution_count": 2,
      "outputs": []
    },
    {
      "cell_type": "markdown",
      "source": [
        "## 3.4 Show top players per cluster\n",
        "* Use the columns 'overall_rating' and 'description' and show 3 players with highest rating from each cluster\n",
        "* **BONUS:** use the column 'image' to add an image of each player. Hint: create an <image> html tag from 'image' urls and convert the dataframe .to_html(). Wrap the result with display(HTML())"
      ],
      "metadata": {
        "id": "8tfTTWdeTVIg"
      }
    },
    {
      "cell_type": "code",
      "source": [],
      "metadata": {
        "id": "3LyVE_F5Jit8"
      },
      "execution_count": 2,
      "outputs": []
    }
  ]
}